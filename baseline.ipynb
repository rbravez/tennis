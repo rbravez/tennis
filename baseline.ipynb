{
 "cells": [
  {
   "cell_type": "code",
   "execution_count": 1,
   "id": "ea596b05",
   "metadata": {},
   "outputs": [],
   "source": [
    "import sys\n",
    "sys.path.append('src/utils')\n",
    "import preprocessing as prep\n",
    "import glicko as glk\n",
    "import pandas as pd\n",
    "import matplotlib.pyplot as plt\n",
    "import h2h_metrics as h2h\n",
    "import elo as elo\n",
    "import age as age"
   ]
  },
  {
   "cell_type": "code",
   "execution_count": 2,
   "id": "2d4736eb",
   "metadata": {},
   "outputs": [
    {
     "name": "stdout",
     "output_type": "stream",
     "text": [
      "Successfully concatenated 57 files.\n",
      "Combined DataFrame shape: (194996, 49)\n",
      "  tourney_id tourney_name surface  draw_size tourney_level  tourney_date  \\\n",
      "0  1968-2029       Dublin   Grass       32.0             A      19680708   \n",
      "1  1968-2029       Dublin   Grass       32.0             A      19680708   \n",
      "2  1968-2029       Dublin   Grass       32.0             A      19680708   \n",
      "3  1968-2029       Dublin   Grass       32.0             A      19680708   \n",
      "4  1968-2029       Dublin   Grass       32.0             A      19680708   \n",
      "\n",
      "   match_num  winner_id  winner_seed winner_entry  ... l_1stIn l_1stWon  \\\n",
      "0        270     112411          NaN          NaN  ...     NaN      NaN   \n",
      "1        271     126914          NaN          NaN  ...     NaN      NaN   \n",
      "2        272     209523          NaN          NaN  ...     NaN      NaN   \n",
      "3        273     100084          NaN          NaN  ...     NaN      NaN   \n",
      "4        274     100132          NaN          NaN  ...     NaN      NaN   \n",
      "\n",
      "   l_2ndWon l_SvGms  l_bpSaved  l_bpFaced  winner_rank winner_rank_points  \\\n",
      "0       NaN     NaN        NaN        NaN          NaN                NaN   \n",
      "1       NaN     NaN        NaN        NaN          NaN                NaN   \n",
      "2       NaN     NaN        NaN        NaN          NaN                NaN   \n",
      "3       NaN     NaN        NaN        NaN          NaN                NaN   \n",
      "4       NaN     NaN        NaN        NaN          NaN                NaN   \n",
      "\n",
      "  loser_rank loser_rank_points  \n",
      "0        NaN               NaN  \n",
      "1        NaN               NaN  \n",
      "2        NaN               NaN  \n",
      "3        NaN               NaN  \n",
      "4        NaN               NaN  \n",
      "\n",
      "[5 rows x 49 columns]\n"
     ]
    }
   ],
   "source": [
    "df = prep.load_data()\n",
    "df = prep.get_target(df)"
   ]
  },
  {
   "cell_type": "code",
   "execution_count": 3,
   "id": "2257e02c",
   "metadata": {},
   "outputs": [
    {
     "name": "stdout",
     "output_type": "stream",
     "text": [
      "Warning: Skipped 2990 rows in c_surface_glicko_1 due to missing values or date.\n"
     ]
    }
   ],
   "source": [
    "df = glk.calculate_global_glicko_1(df)\n",
    "df = glk.c_surface_glicko_1(df)"
   ]
  },
  {
   "cell_type": "code",
   "execution_count": 4,
   "id": "9bc0dda1",
   "metadata": {},
   "outputs": [],
   "source": [
    "df = elo.calculate_general_elo(df)"
   ]
  },
  {
   "cell_type": "code",
   "execution_count": 5,
   "id": "f6e2d134",
   "metadata": {},
   "outputs": [],
   "source": [
    "df = age.add_age_optimality_features(df)"
   ]
  },
  {
   "cell_type": "code",
   "execution_count": 6,
   "id": "a1f07344",
   "metadata": {},
   "outputs": [],
   "source": [
    "df = h2h.h2h_totals(df)"
   ]
  },
  {
   "cell_type": "code",
   "execution_count": 7,
   "id": "020cd0b9",
   "metadata": {},
   "outputs": [],
   "source": [
    "df = h2h.h2h_surface_totals(df)\n",
    "df = h2h.h2h_streak(df)\n",
    "# Should add general streaks too"
   ]
  },
  {
   "cell_type": "code",
   "execution_count": 8,
   "id": "7f0c1a91",
   "metadata": {},
   "outputs": [
    {
     "name": "stdout",
     "output_type": "stream",
     "text": [
      "<class 'pandas.core.frame.DataFrame'>\n",
      "RangeIndex: 194996 entries, 0 to 194995\n",
      "Data columns (total 81 columns):\n",
      " #   Column                    Non-Null Count   Dtype         \n",
      "---  ------                    --------------   -----         \n",
      " 0   tourney_id                194996 non-null  object        \n",
      " 1   tourney_name              194996 non-null  object        \n",
      " 2   surface                   192006 non-null  object        \n",
      " 3   tourney_level             194996 non-null  object        \n",
      " 4   tourney_date              194996 non-null  datetime64[ns]\n",
      " 5   match_num                 194996 non-null  int64         \n",
      " 6   player_A_id               194996 non-null  int64         \n",
      " 7   player_A_seed             54502 non-null   float64       \n",
      " 8   player_A_entry            23218 non-null   object        \n",
      " 9   player_A_name             194996 non-null  object        \n",
      " 10  player_A_hand             194987 non-null  object        \n",
      " 11  player_A_ht               172166 non-null  float64       \n",
      " 12  player_A_ioc              194955 non-null  object        \n",
      " 13  player_A_age              192014 non-null  float64       \n",
      " 14  player_B_id               194996 non-null  int64         \n",
      " 15  player_B_seed             54574 non-null   float64       \n",
      " 16  player_B_entry            23144 non-null   object        \n",
      " 17  player_B_name             194996 non-null  object        \n",
      " 18  player_B_hand             194991 non-null  object        \n",
      " 19  player_B_ht               172002 non-null  float64       \n",
      " 20  player_B_ioc              194957 non-null  object        \n",
      " 21  player_B_age              192021 non-null  float64       \n",
      " 22  score                     194987 non-null  object        \n",
      " 23  best_of                   194996 non-null  int64         \n",
      " 24  round                     194996 non-null  object        \n",
      " 25  minutes                   95105 non-null   float64       \n",
      " 26  player_A_ace              98050 non-null   float64       \n",
      " 27  player_A_df               98051 non-null   float64       \n",
      " 28  player_A_svpt             98050 non-null   float64       \n",
      " 29  player_A_1stIn            98050 non-null   float64       \n",
      " 30  player_A_1stWon           98050 non-null   float64       \n",
      " 31  player_A_2ndWon           98050 non-null   float64       \n",
      " 32  player_A_SvGms            98050 non-null   float64       \n",
      " 33  player_A_bpSaved          98050 non-null   float64       \n",
      " 34  player_A_bpFaced          98050 non-null   float64       \n",
      " 35  player_B_ace              98051 non-null   float64       \n",
      " 36  player_B_df               98050 non-null   float64       \n",
      " 37  player_B_svpt             98050 non-null   float64       \n",
      " 38  player_B_1stIn            98050 non-null   float64       \n",
      " 39  player_B_1stWon           98050 non-null   float64       \n",
      " 40  player_B_2ndWon           98050 non-null   float64       \n",
      " 41  player_B_SvGms            98050 non-null   float64       \n",
      " 42  player_B_bpSaved          98050 non-null   float64       \n",
      " 43  player_B_bpFaced          98050 non-null   float64       \n",
      " 44  player_A_rank             155046 non-null  float64       \n",
      " 45  player_A_rank_points      111155 non-null  float64       \n",
      " 46  player_B_rank             155001 non-null  float64       \n",
      " 47  player_B_rank_points      111189 non-null  float64       \n",
      " 48  target                    194996 non-null  int64         \n",
      " 49  A_Glicko1_Rating          194996 non-null  float64       \n",
      " 50  B_Glicko1_Rating          194996 non-null  float64       \n",
      " 51  A_Glicko1_RD              194996 non-null  float64       \n",
      " 52  B_Glicko1_RD              194996 non-null  float64       \n",
      " 53  A_Glicko1_Surface_Rating  192006 non-null  float64       \n",
      " 54  B_Glicko1_Surface_Rating  192006 non-null  float64       \n",
      " 55  A_Glicko1_Surface_RD      192006 non-null  float64       \n",
      " 56  B_Glicko1_Surface_RD      192006 non-null  float64       \n",
      " 57  A_Elo_Overall             194996 non-null  float64       \n",
      " 58  B_Elo_Overall             194996 non-null  float64       \n",
      " 59  A_Elo_Surface             194996 non-null  float64       \n",
      " 60  B_Elo_Surface             194996 non-null  float64       \n",
      " 61  A_Elo_Overall_Post        194996 non-null  object        \n",
      " 62  B_Elo_Overall_Post        194996 non-null  object        \n",
      " 63  A_Elo_Surface_Post        192006 non-null  object        \n",
      " 64  B_Elo_Surface_Post        192006 non-null  object        \n",
      " 65  A_Age30                   192014 non-null  float64       \n",
      " 66  B_Age30                   192021 non-null  float64       \n",
      " 67  A_AgeInt                  194996 non-null  float64       \n",
      " 68  B_AgeInt                  194996 non-null  float64       \n",
      " 69  Age30_Diff                189662 non-null  float64       \n",
      " 70  AgeInt_Diff               194996 non-null  float64       \n",
      " 71  A_H2H_Total_Matches       194996 non-null  int64         \n",
      " 72  B_H2H_Total_Matches       194996 non-null  int64         \n",
      " 73  A_H2H_Wins                194996 non-null  int64         \n",
      " 74  B_H2H_Wins                194996 non-null  int64         \n",
      " 75  A_H2H_Surface_Matches     194996 non-null  int64         \n",
      " 76  B_H2H_Surface_Matches     194996 non-null  int64         \n",
      " 77  A_H2H_Surface_Wins        194996 non-null  int64         \n",
      " 78  B_H2H_Surface_Wins        194996 non-null  int64         \n",
      " 79  A_H2H_Streak              194996 non-null  int64         \n",
      " 80  B_H2H_Streak              194996 non-null  int64         \n",
      "dtypes: datetime64[ns](1), float64(47), int64(15), object(18)\n",
      "memory usage: 120.5+ MB\n"
     ]
    }
   ],
   "source": [
    "df.info()"
   ]
  },
  {
   "cell_type": "code",
   "execution_count": 9,
   "id": "1bbc638a",
   "metadata": {},
   "outputs": [],
   "source": [
    "df_p = df[['tourney_id', 'tourney_level', 'tourney_date',\n",
    "           'surface', 'player_A_id', 'player_B_id',\n",
    "           'target', 'player_A_rank', 'player_B_rank',\n",
    "           'player_A_ht', 'player_B_ht',\n",
    "           'player_A_hand', 'player_B_hand',\n",
    "           'player_A_rank_points', 'player_B_rank_points',\n",
    "           'A_Glicko1_Rating', 'B_Glicko1_Rating',\n",
    "           'A_Glicko1_Surface_Rating', 'B_Glicko1_Surface_Rating',\n",
    "           'A_Elo_Overall', 'B_Elo_Overall',\n",
    "           'A_Elo_Surface', 'B_Elo_Surface',\n",
    "           'AgeInt_Diff', \n",
    "           'A_H2H_Wins', 'A_H2H_Total_Matches',\n",
    "           'A_H2H_Surface_Wins', 'A_H2H_Surface_Matches',\n",
    "           'A_H2H_Streak', 'B_H2H_Streak']]"
   ]
  },
  {
   "cell_type": "code",
   "execution_count": 10,
   "id": "aa8ba19c",
   "metadata": {},
   "outputs": [
    {
     "name": "stdout",
     "output_type": "stream",
     "text": [
      "<class 'pandas.core.frame.DataFrame'>\n",
      "RangeIndex: 194996 entries, 0 to 194995\n",
      "Data columns (total 30 columns):\n",
      " #   Column                    Non-Null Count   Dtype         \n",
      "---  ------                    --------------   -----         \n",
      " 0   tourney_id                194996 non-null  object        \n",
      " 1   tourney_level             194996 non-null  object        \n",
      " 2   tourney_date              194996 non-null  datetime64[ns]\n",
      " 3   surface                   192006 non-null  object        \n",
      " 4   player_A_id               194996 non-null  int64         \n",
      " 5   player_B_id               194996 non-null  int64         \n",
      " 6   target                    194996 non-null  int64         \n",
      " 7   player_A_rank             155046 non-null  float64       \n",
      " 8   player_B_rank             155001 non-null  float64       \n",
      " 9   player_A_ht               172166 non-null  float64       \n",
      " 10  player_B_ht               172002 non-null  float64       \n",
      " 11  player_A_hand             194987 non-null  object        \n",
      " 12  player_B_hand             194991 non-null  object        \n",
      " 13  player_A_rank_points      111155 non-null  float64       \n",
      " 14  player_B_rank_points      111189 non-null  float64       \n",
      " 15  A_Glicko1_Rating          194996 non-null  float64       \n",
      " 16  B_Glicko1_Rating          194996 non-null  float64       \n",
      " 17  A_Glicko1_Surface_Rating  192006 non-null  float64       \n",
      " 18  B_Glicko1_Surface_Rating  192006 non-null  float64       \n",
      " 19  A_Elo_Overall             194996 non-null  float64       \n",
      " 20  B_Elo_Overall             194996 non-null  float64       \n",
      " 21  A_Elo_Surface             194996 non-null  float64       \n",
      " 22  B_Elo_Surface             194996 non-null  float64       \n",
      " 23  AgeInt_Diff               194996 non-null  float64       \n",
      " 24  A_H2H_Wins                194996 non-null  int64         \n",
      " 25  A_H2H_Total_Matches       194996 non-null  int64         \n",
      " 26  A_H2H_Surface_Wins        194996 non-null  int64         \n",
      " 27  A_H2H_Surface_Matches     194996 non-null  int64         \n",
      " 28  A_H2H_Streak              194996 non-null  int64         \n",
      " 29  B_H2H_Streak              194996 non-null  int64         \n",
      "dtypes: datetime64[ns](1), float64(15), int64(9), object(5)\n",
      "memory usage: 44.6+ MB\n"
     ]
    }
   ],
   "source": [
    "df_p.info()"
   ]
  },
  {
   "cell_type": "code",
   "execution_count": 11,
   "id": "65be5a95",
   "metadata": {},
   "outputs": [
    {
     "name": "stderr",
     "output_type": "stream",
     "text": [
      "C:\\Users\\AMON\\AppData\\Local\\Temp\\ipykernel_18408\\161031808.py:1: SettingWithCopyWarning: \n",
      "A value is trying to be set on a copy of a slice from a DataFrame.\n",
      "Try using .loc[row_indexer,col_indexer] = value instead\n",
      "\n",
      "See the caveats in the documentation: https://pandas.pydata.org/pandas-docs/stable/user_guide/indexing.html#returning-a-view-versus-a-copy\n",
      "  df_p['rank_diff'] = df_p['player_A_rank'] - df_p['player_B_rank']\n",
      "C:\\Users\\AMON\\AppData\\Local\\Temp\\ipykernel_18408\\161031808.py:2: SettingWithCopyWarning: \n",
      "A value is trying to be set on a copy of a slice from a DataFrame\n",
      "\n",
      "See the caveats in the documentation: https://pandas.pydata.org/pandas-docs/stable/user_guide/indexing.html#returning-a-view-versus-a-copy\n",
      "  df_p.drop(columns=['player_A_rank', 'player_B_rank'], inplace=True)\n"
     ]
    }
   ],
   "source": [
    "df_p['rank_diff'] = df_p['player_A_rank'] - df_p['player_B_rank']\n",
    "df_p.drop(columns=['player_A_rank', 'player_B_rank'], inplace=True)"
   ]
  },
  {
   "cell_type": "code",
   "execution_count": 12,
   "id": "11d1e4c9",
   "metadata": {},
   "outputs": [
    {
     "name": "stderr",
     "output_type": "stream",
     "text": [
      "C:\\Users\\AMON\\AppData\\Local\\Temp\\ipykernel_18408\\664513900.py:1: SettingWithCopyWarning: \n",
      "A value is trying to be set on a copy of a slice from a DataFrame.\n",
      "Try using .loc[row_indexer,col_indexer] = value instead\n",
      "\n",
      "See the caveats in the documentation: https://pandas.pydata.org/pandas-docs/stable/user_guide/indexing.html#returning-a-view-versus-a-copy\n",
      "  df_p['ht_diff'] = df_p['player_A_ht'] - df_p['player_B_ht']\n",
      "C:\\Users\\AMON\\AppData\\Local\\Temp\\ipykernel_18408\\664513900.py:2: SettingWithCopyWarning: \n",
      "A value is trying to be set on a copy of a slice from a DataFrame\n",
      "\n",
      "See the caveats in the documentation: https://pandas.pydata.org/pandas-docs/stable/user_guide/indexing.html#returning-a-view-versus-a-copy\n",
      "  df_p.drop(columns=['player_A_ht', 'player_B_ht'], inplace=True)\n"
     ]
    }
   ],
   "source": [
    "df_p['ht_diff'] = df_p['player_A_ht'] - df_p['player_B_ht']\n",
    "df_p.drop(columns=['player_A_ht', 'player_B_ht'], inplace=True)"
   ]
  },
  {
   "cell_type": "code",
   "execution_count": 13,
   "id": "59acf104",
   "metadata": {},
   "outputs": [
    {
     "name": "stderr",
     "output_type": "stream",
     "text": [
      "C:\\Users\\AMON\\AppData\\Local\\Temp\\ipykernel_18408\\3698699219.py:1: SettingWithCopyWarning: \n",
      "A value is trying to be set on a copy of a slice from a DataFrame.\n",
      "Try using .loc[row_indexer,col_indexer] = value instead\n",
      "\n",
      "See the caveats in the documentation: https://pandas.pydata.org/pandas-docs/stable/user_guide/indexing.html#returning-a-view-versus-a-copy\n",
      "  df_p['same_hand'] = (df_p['player_A_hand'] == df_p['player_B_hand']).astype(int)\n",
      "C:\\Users\\AMON\\AppData\\Local\\Temp\\ipykernel_18408\\3698699219.py:2: SettingWithCopyWarning: \n",
      "A value is trying to be set on a copy of a slice from a DataFrame\n",
      "\n",
      "See the caveats in the documentation: https://pandas.pydata.org/pandas-docs/stable/user_guide/indexing.html#returning-a-view-versus-a-copy\n",
      "  df_p.drop(columns=['player_A_hand', 'player_B_hand'], inplace=True)\n"
     ]
    }
   ],
   "source": [
    "df_p['same_hand'] = (df_p['player_A_hand'] == df_p['player_B_hand']).astype(int)\n",
    "df_p.drop(columns=['player_A_hand', 'player_B_hand'], inplace=True)"
   ]
  },
  {
   "cell_type": "code",
   "execution_count": 14,
   "id": "90c9f29c",
   "metadata": {},
   "outputs": [
    {
     "name": "stderr",
     "output_type": "stream",
     "text": [
      "C:\\Users\\AMON\\AppData\\Local\\Temp\\ipykernel_18408\\1700861251.py:1: SettingWithCopyWarning: \n",
      "A value is trying to be set on a copy of a slice from a DataFrame.\n",
      "Try using .loc[row_indexer,col_indexer] = value instead\n",
      "\n",
      "See the caveats in the documentation: https://pandas.pydata.org/pandas-docs/stable/user_guide/indexing.html#returning-a-view-versus-a-copy\n",
      "  df_p['rank_points_diff'] = df_p['player_A_rank_points'] - df_p['player_B_rank_points']\n",
      "C:\\Users\\AMON\\AppData\\Local\\Temp\\ipykernel_18408\\1700861251.py:2: SettingWithCopyWarning: \n",
      "A value is trying to be set on a copy of a slice from a DataFrame\n",
      "\n",
      "See the caveats in the documentation: https://pandas.pydata.org/pandas-docs/stable/user_guide/indexing.html#returning-a-view-versus-a-copy\n",
      "  df_p.drop(columns=['player_A_rank_points', 'player_B_rank_points'], inplace=True)\n"
     ]
    }
   ],
   "source": [
    "df_p['rank_points_diff'] = df_p['player_A_rank_points'] - df_p['player_B_rank_points']\n",
    "df_p.drop(columns=['player_A_rank_points', 'player_B_rank_points'], inplace=True)"
   ]
  },
  {
   "cell_type": "code",
   "execution_count": 15,
   "id": "81990072",
   "metadata": {},
   "outputs": [
    {
     "name": "stderr",
     "output_type": "stream",
     "text": [
      "C:\\Users\\AMON\\AppData\\Local\\Temp\\ipykernel_18408\\1226948926.py:1: SettingWithCopyWarning: \n",
      "A value is trying to be set on a copy of a slice from a DataFrame.\n",
      "Try using .loc[row_indexer,col_indexer] = value instead\n",
      "\n",
      "See the caveats in the documentation: https://pandas.pydata.org/pandas-docs/stable/user_guide/indexing.html#returning-a-view-versus-a-copy\n",
      "  df_p['Glicko1_diff'] = (0.5*df_p['A_Glicko1_Rating'] + 0.5*df_p['A_Glicko1_Surface_Rating']) - (0.5*df_p['B_Glicko1_Rating'] + 0.5*df_p['B_Glicko1_Surface_Rating'])\n",
      "C:\\Users\\AMON\\AppData\\Local\\Temp\\ipykernel_18408\\1226948926.py:2: SettingWithCopyWarning: \n",
      "A value is trying to be set on a copy of a slice from a DataFrame\n",
      "\n",
      "See the caveats in the documentation: https://pandas.pydata.org/pandas-docs/stable/user_guide/indexing.html#returning-a-view-versus-a-copy\n",
      "  df_p.drop(columns=['A_Glicko1_Rating', 'B_Glicko1_Rating',\n"
     ]
    }
   ],
   "source": [
    "df_p['Glicko1_diff'] = (0.5*df_p['A_Glicko1_Rating'] + 0.5*df_p['A_Glicko1_Surface_Rating']) - (0.5*df_p['B_Glicko1_Rating'] + 0.5*df_p['B_Glicko1_Surface_Rating'])\n",
    "df_p.drop(columns=['A_Glicko1_Rating', 'B_Glicko1_Rating',\n",
    "                   'A_Glicko1_Surface_Rating', 'B_Glicko1_Surface_Rating'], inplace=True)"
   ]
  },
  {
   "cell_type": "code",
   "execution_count": 16,
   "id": "bbc45a05",
   "metadata": {},
   "outputs": [
    {
     "name": "stderr",
     "output_type": "stream",
     "text": [
      "C:\\Users\\AMON\\AppData\\Local\\Temp\\ipykernel_18408\\275058724.py:1: SettingWithCopyWarning: \n",
      "A value is trying to be set on a copy of a slice from a DataFrame.\n",
      "Try using .loc[row_indexer,col_indexer] = value instead\n",
      "\n",
      "See the caveats in the documentation: https://pandas.pydata.org/pandas-docs/stable/user_guide/indexing.html#returning-a-view-versus-a-copy\n",
      "  df_p['Elo_diff'] = (0.5*df_p['A_Elo_Overall'] + 0.5*df_p['A_Elo_Surface']) - (0.5*df_p['B_Elo_Overall'] + 0.5*df_p['B_Elo_Surface'])\n",
      "C:\\Users\\AMON\\AppData\\Local\\Temp\\ipykernel_18408\\275058724.py:2: SettingWithCopyWarning: \n",
      "A value is trying to be set on a copy of a slice from a DataFrame\n",
      "\n",
      "See the caveats in the documentation: https://pandas.pydata.org/pandas-docs/stable/user_guide/indexing.html#returning-a-view-versus-a-copy\n",
      "  df_p.drop(columns=['A_Elo_Overall', 'B_Elo_Overall',\n"
     ]
    }
   ],
   "source": [
    "df_p['Elo_diff'] = (0.5*df_p['A_Elo_Overall'] + 0.5*df_p['A_Elo_Surface']) - (0.5*df_p['B_Elo_Overall'] + 0.5*df_p['B_Elo_Surface'])\n",
    "df_p.drop(columns=['A_Elo_Overall', 'B_Elo_Overall',\n",
    "                   'A_Elo_Surface', 'B_Elo_Surface'], inplace=True)"
   ]
  },
  {
   "cell_type": "code",
   "execution_count": 17,
   "id": "aa12e399",
   "metadata": {},
   "outputs": [
    {
     "name": "stderr",
     "output_type": "stream",
     "text": [
      "C:\\Users\\AMON\\AppData\\Local\\Temp\\ipykernel_18408\\823411046.py:1: SettingWithCopyWarning: \n",
      "A value is trying to be set on a copy of a slice from a DataFrame.\n",
      "Try using .loc[row_indexer,col_indexer] = value instead\n",
      "\n",
      "See the caveats in the documentation: https://pandas.pydata.org/pandas-docs/stable/user_guide/indexing.html#returning-a-view-versus-a-copy\n",
      "  df_p['H2H_Win_Rate'] = df_p['A_H2H_Wins'] / df_p['A_H2H_Total_Matches'].replace(0, pd.NA)\n",
      "C:\\Users\\AMON\\AppData\\Local\\Temp\\ipykernel_18408\\823411046.py:2: SettingWithCopyWarning: \n",
      "A value is trying to be set on a copy of a slice from a DataFrame\n",
      "\n",
      "See the caveats in the documentation: https://pandas.pydata.org/pandas-docs/stable/user_guide/indexing.html#returning-a-view-versus-a-copy\n",
      "  df_p.drop(columns=['A_H2H_Wins', 'A_H2H_Total_Matches'], inplace=True)\n",
      "C:\\Users\\AMON\\AppData\\Local\\Temp\\ipykernel_18408\\823411046.py:3: SettingWithCopyWarning: \n",
      "A value is trying to be set on a copy of a slice from a DataFrame.\n",
      "Try using .loc[row_indexer,col_indexer] = value instead\n",
      "\n",
      "See the caveats in the documentation: https://pandas.pydata.org/pandas-docs/stable/user_guide/indexing.html#returning-a-view-versus-a-copy\n",
      "  df_p['H2H_Surface_Win_Rate'] = df_p['A_H2H_Surface_Wins'] / df_p['A_H2H_Surface_Matches'].replace(0, pd.NA)\n",
      "C:\\Users\\AMON\\AppData\\Local\\Temp\\ipykernel_18408\\823411046.py:4: SettingWithCopyWarning: \n",
      "A value is trying to be set on a copy of a slice from a DataFrame\n",
      "\n",
      "See the caveats in the documentation: https://pandas.pydata.org/pandas-docs/stable/user_guide/indexing.html#returning-a-view-versus-a-copy\n",
      "  df_p.drop(columns=['A_H2H_Surface_Wins', 'A_H2H_Surface_Matches'], inplace=True)\n"
     ]
    }
   ],
   "source": [
    "df_p['H2H_Win_Rate'] = df_p['A_H2H_Wins'] / df_p['A_H2H_Total_Matches'].replace(0, pd.NA)\n",
    "df_p.drop(columns=['A_H2H_Wins', 'A_H2H_Total_Matches'], inplace=True)\n",
    "df_p['H2H_Surface_Win_Rate'] = df_p['A_H2H_Surface_Wins'] / df_p['A_H2H_Surface_Matches'].replace(0, pd.NA)\n",
    "df_p.drop(columns=['A_H2H_Surface_Wins', 'A_H2H_Surface_Matches'], inplace=True)"
   ]
  },
  {
   "cell_type": "code",
   "execution_count": 18,
   "id": "684269c6",
   "metadata": {},
   "outputs": [
    {
     "name": "stderr",
     "output_type": "stream",
     "text": [
      "C:\\Users\\AMON\\AppData\\Local\\Temp\\ipykernel_18408\\2712670738.py:1: SettingWithCopyWarning: \n",
      "A value is trying to be set on a copy of a slice from a DataFrame\n",
      "\n",
      "See the caveats in the documentation: https://pandas.pydata.org/pandas-docs/stable/user_guide/indexing.html#returning-a-view-versus-a-copy\n",
      "  df_p.dropna(inplace=True)\n"
     ]
    }
   ],
   "source": [
    "df_p.dropna(inplace=True)"
   ]
  },
  {
   "cell_type": "code",
   "execution_count": 19,
   "id": "09b897c8",
   "metadata": {},
   "outputs": [
    {
     "name": "stdout",
     "output_type": "stream",
     "text": [
      "<class 'pandas.core.frame.DataFrame'>\n",
      "Index: 33785 entries, 21805 to 194995\n",
      "Data columns (total 18 columns):\n",
      " #   Column                Non-Null Count  Dtype         \n",
      "---  ------                --------------  -----         \n",
      " 0   tourney_id            33785 non-null  object        \n",
      " 1   tourney_level         33785 non-null  object        \n",
      " 2   tourney_date          33785 non-null  datetime64[ns]\n",
      " 3   surface               33785 non-null  object        \n",
      " 4   player_A_id           33785 non-null  int64         \n",
      " 5   player_B_id           33785 non-null  int64         \n",
      " 6   target                33785 non-null  int64         \n",
      " 7   AgeInt_Diff           33785 non-null  float64       \n",
      " 8   A_H2H_Streak          33785 non-null  int64         \n",
      " 9   B_H2H_Streak          33785 non-null  int64         \n",
      " 10  rank_diff             33785 non-null  float64       \n",
      " 11  ht_diff               33785 non-null  float64       \n",
      " 12  same_hand             33785 non-null  int64         \n",
      " 13  rank_points_diff      33785 non-null  float64       \n",
      " 14  Glicko1_diff          33785 non-null  float64       \n",
      " 15  Elo_diff              33785 non-null  float64       \n",
      " 16  H2H_Win_Rate          33785 non-null  object        \n",
      " 17  H2H_Surface_Win_Rate  33785 non-null  object        \n",
      "dtypes: datetime64[ns](1), float64(6), int64(6), object(5)\n",
      "memory usage: 4.9+ MB\n"
     ]
    }
   ],
   "source": [
    "df_p.info()"
   ]
  },
  {
   "cell_type": "code",
   "execution_count": 20,
   "id": "ad8ee186",
   "metadata": {},
   "outputs": [
    {
     "name": "stdout",
     "output_type": "stream",
     "text": [
      "Accuracy: 0.6516\n",
      "ROC AUC: 0.7047\n",
      "\n",
      "Classification report:\n",
      "               precision    recall  f1-score   support\n",
      "\n",
      "           0       0.65      0.66      0.65      3380\n",
      "           1       0.65      0.64      0.65      3377\n",
      "\n",
      "    accuracy                           0.65      6757\n",
      "   macro avg       0.65      0.65      0.65      6757\n",
      "weighted avg       0.65      0.65      0.65      6757\n",
      "\n",
      "\n",
      "Top predictors:\n",
      "                   feature  coefficient\n",
      "14  num__rank_points_diff     0.647877\n",
      "9       num__A_H2H_Streak     0.156722\n",
      "8        num__AgeInt_Diff     0.140876\n",
      "1    cat__tourney_level_F     0.066255\n",
      "12           num__ht_diff     0.046596\n",
      "5       cat__surface_Clay     0.033190\n",
      "7       cat__surface_Hard     0.030015\n",
      "13         num__same_hand     0.028312\n",
      "6      cat__surface_Grass     0.021082\n",
      "2    cat__tourney_level_G     0.006281\n"
     ]
    }
   ],
   "source": [
    "import pandas as pd\n",
    "from sklearn.model_selection import train_test_split\n",
    "from sklearn.preprocessing import StandardScaler, OneHotEncoder\n",
    "from sklearn.compose import ColumnTransformer\n",
    "from sklearn.pipeline import Pipeline\n",
    "from sklearn.linear_model import LogisticRegression\n",
    "from sklearn.metrics import accuracy_score, roc_auc_score, classification_report\n",
    "\n",
    "# Select features and target\n",
    "X = df_p[['tourney_level', 'surface', 'AgeInt_Diff', 'A_H2H_Streak', 'B_H2H_Streak',\n",
    "          'rank_diff', 'ht_diff', 'same_hand', 'rank_points_diff']]\n",
    "y = df_p['target']\n",
    "\n",
    "# Identify categorical and numeric columns\n",
    "categorical = ['tourney_level', 'surface']\n",
    "numeric = ['AgeInt_Diff', 'A_H2H_Streak', 'B_H2H_Streak', 'rank_diff', 'ht_diff', 'same_hand', 'rank_points_diff']\n",
    "\n",
    "# Preprocessing pipeline\n",
    "preprocessor = ColumnTransformer([\n",
    "    ('cat', OneHotEncoder(drop='first', handle_unknown='ignore'), categorical),\n",
    "    ('num', StandardScaler(), numeric)\n",
    "])\n",
    "\n",
    "# Logistic Regression model\n",
    "log_reg = LogisticRegression(max_iter=1000, solver='lbfgs')\n",
    "\n",
    "# Full pipeline\n",
    "model = Pipeline([\n",
    "    ('preprocessor', preprocessor),\n",
    "    ('classifier', log_reg)\n",
    "])\n",
    "\n",
    "# Train-test split (stratified to preserve class balance)\n",
    "X_train, X_test, y_train, y_test = train_test_split(\n",
    "    X, y, test_size=0.2, random_state=42, stratify=y\n",
    ")\n",
    "\n",
    "# Fit model\n",
    "model.fit(X_train, y_train)\n",
    "\n",
    "# Predict and evaluate\n",
    "y_pred = model.predict(X_test)\n",
    "y_prob = model.predict_proba(X_test)[:, 1]\n",
    "\n",
    "print(\"Accuracy:\", round(accuracy_score(y_test, y_pred), 4))\n",
    "print(\"ROC AUC:\", round(roc_auc_score(y_test, y_prob), 4))\n",
    "print(\"\\nClassification report:\\n\", classification_report(y_test, y_pred))\n",
    "\n",
    "# Optional: extract coefficients for interpretability\n",
    "feature_names = model.named_steps['preprocessor'].get_feature_names_out()\n",
    "coefficients = pd.DataFrame({\n",
    "    'feature': feature_names,\n",
    "    'coefficient': model.named_steps['classifier'].coef_[0]\n",
    "}).sort_values(by='coefficient', ascending=False)\n",
    "\n",
    "print(\"\\nTop predictors:\\n\", coefficients.head(10))\n"
   ]
  },
  {
   "cell_type": "code",
   "execution_count": 21,
   "id": "72c71a53",
   "metadata": {},
   "outputs": [
    {
     "name": "stderr",
     "output_type": "stream",
     "text": [
      "c:\\Users\\AMON\\Documents\\GitHub\\tennis\\.venv\\Lib\\site-packages\\sklearn\\preprocessing\\_encoders.py:246: UserWarning: Found unknown categories in columns [0] during transform. These unknown categories will be encoded as all zeros\n",
      "  warnings.warn(\n",
      "c:\\Users\\AMON\\Documents\\GitHub\\tennis\\.venv\\Lib\\site-packages\\sklearn\\preprocessing\\_encoders.py:246: UserWarning: Found unknown categories in columns [0] during transform. These unknown categories will be encoded as all zeros\n",
      "  warnings.warn(\n",
      "c:\\Users\\AMON\\Documents\\GitHub\\tennis\\.venv\\Lib\\site-packages\\sklearn\\preprocessing\\_encoders.py:246: UserWarning: Found unknown categories in columns [0] during transform. These unknown categories will be encoded as all zeros\n",
      "  warnings.warn(\n",
      "c:\\Users\\AMON\\Documents\\GitHub\\tennis\\.venv\\Lib\\site-packages\\sklearn\\preprocessing\\_encoders.py:246: UserWarning: Found unknown categories in columns [0] during transform. These unknown categories will be encoded as all zeros\n",
      "  warnings.warn(\n",
      "c:\\Users\\AMON\\Documents\\GitHub\\tennis\\.venv\\Lib\\site-packages\\sklearn\\preprocessing\\_encoders.py:246: UserWarning: Found unknown categories in columns [0] during transform. These unknown categories will be encoded as all zeros\n",
      "  warnings.warn(\n",
      "c:\\Users\\AMON\\Documents\\GitHub\\tennis\\.venv\\Lib\\site-packages\\xgboost\\training.py:199: UserWarning: [15:31:49] WARNING: C:\\actions-runner\\_work\\xgboost\\xgboost\\src\\learner.cc:790: \n",
      "Parameters: { \"use_label_encoder\" } are not used.\n",
      "\n",
      "  bst.update(dtrain, iteration=i, fobj=obj)\n",
      "c:\\Users\\AMON\\Documents\\GitHub\\tennis\\.venv\\Lib\\site-packages\\xgboost\\training.py:199: UserWarning: [15:31:49] WARNING: C:\\actions-runner\\_work\\xgboost\\xgboost\\src\\learner.cc:790: \n",
      "Parameters: { \"use_label_encoder\" } are not used.\n",
      "\n",
      "  bst.update(dtrain, iteration=i, fobj=obj)\n",
      "c:\\Users\\AMON\\Documents\\GitHub\\tennis\\.venv\\Lib\\site-packages\\xgboost\\training.py:199: UserWarning: [15:31:49] WARNING: C:\\actions-runner\\_work\\xgboost\\xgboost\\src\\learner.cc:790: \n",
      "Parameters: { \"use_label_encoder\" } are not used.\n",
      "\n",
      "  bst.update(dtrain, iteration=i, fobj=obj)\n",
      "c:\\Users\\AMON\\Documents\\GitHub\\tennis\\.venv\\Lib\\site-packages\\xgboost\\training.py:199: UserWarning: [15:31:49] WARNING: C:\\actions-runner\\_work\\xgboost\\xgboost\\src\\learner.cc:790: \n",
      "Parameters: { \"use_label_encoder\" } are not used.\n",
      "\n",
      "  bst.update(dtrain, iteration=i, fobj=obj)\n"
     ]
    },
    {
     "name": "stdout",
     "output_type": "stream",
     "text": [
      "                Model  Precision Mean  Precision Std\n",
      "0  LogisticRegression          0.6567         0.0162\n",
      "2    GradientBoosting          0.6548         0.0163\n",
      "4          NaiveBayes          0.6472         0.0169\n",
      "5             XGBoost          0.6412         0.0161\n",
      "1        RandomForest          0.6381         0.0141\n",
      "3                 KNN          0.6012         0.0132\n"
     ]
    },
    {
     "name": "stderr",
     "output_type": "stream",
     "text": [
      "c:\\Users\\AMON\\Documents\\GitHub\\tennis\\.venv\\Lib\\site-packages\\xgboost\\training.py:199: UserWarning: [15:31:50] WARNING: C:\\actions-runner\\_work\\xgboost\\xgboost\\src\\learner.cc:790: \n",
      "Parameters: { \"use_label_encoder\" } are not used.\n",
      "\n",
      "  bst.update(dtrain, iteration=i, fobj=obj)\n",
      "c:\\Users\\AMON\\Documents\\GitHub\\tennis\\.venv\\Lib\\site-packages\\sklearn\\preprocessing\\_encoders.py:246: UserWarning: Found unknown categories in columns [0] during transform. These unknown categories will be encoded as all zeros\n",
      "  warnings.warn(\n"
     ]
    }
   ],
   "source": [
    "import pandas as pd\n",
    "import numpy as np\n",
    "\n",
    "from sklearn.model_selection import cross_val_score\n",
    "from sklearn.pipeline import Pipeline\n",
    "from sklearn.compose import ColumnTransformer\n",
    "from sklearn.preprocessing import StandardScaler, OneHotEncoder\n",
    "from sklearn.linear_model import LogisticRegression\n",
    "from sklearn.ensemble import RandomForestClassifier, GradientBoostingClassifier\n",
    "from sklearn.svm import SVC\n",
    "from sklearn.neighbors import KNeighborsClassifier\n",
    "from sklearn.naive_bayes import GaussianNB\n",
    "\n",
    "# Optional: If XGBoost is installed\n",
    "try:\n",
    "    from xgboost import XGBClassifier\n",
    "    xgb_available = True\n",
    "except ImportError:\n",
    "    xgb_available = False\n",
    "\n",
    "# Preprocessing\n",
    "preprocessor = ColumnTransformer([\n",
    "    ('cat', OneHotEncoder(drop='first', handle_unknown='ignore'), categorical),\n",
    "    ('num', StandardScaler(), numeric)\n",
    "])\n",
    "\n",
    "# Define models to compare\n",
    "models = {\n",
    "    'LogisticRegression': LogisticRegression(max_iter=1000, solver='lbfgs'),\n",
    "    'RandomForest': RandomForestClassifier(n_estimators=100, random_state=42),\n",
    "    'GradientBoosting': GradientBoostingClassifier(n_estimators=100, learning_rate=0.1, random_state=42),\n",
    "    'KNN': KNeighborsClassifier(n_neighbors=5),\n",
    "    'NaiveBayes': GaussianNB()\n",
    "}\n",
    "\n",
    "# Add XGBoost if available\n",
    "if xgb_available:\n",
    "    models['XGBoost'] = XGBClassifier(use_label_encoder=False, eval_metric='logloss', random_state=42)\n",
    "\n",
    "# Evaluate models using 5-fold cross-validation, optimizing for precision\n",
    "results = []\n",
    "for name, clf in models.items():\n",
    "    pipeline = Pipeline([\n",
    "        ('preprocessor', preprocessor),\n",
    "        ('classifier', clf)\n",
    "    ])\n",
    "    precision_scores = cross_val_score(\n",
    "        pipeline, X, y, cv=5, scoring='precision_weighted'\n",
    "    )\n",
    "    results.append({\n",
    "        'Model': name,\n",
    "        'Precision Mean': round(np.mean(precision_scores), 4),\n",
    "        'Precision Std': round(np.std(precision_scores), 4)\n",
    "    })\n",
    "\n",
    "# Results summary\n",
    "results_df = pd.DataFrame(results).sort_values(by='Precision Mean', ascending=False)\n",
    "print(results_df)\n"
   ]
  },
  {
   "cell_type": "code",
   "execution_count": 22,
   "id": "5aa4d084",
   "metadata": {},
   "outputs": [
    {
     "name": "stderr",
     "output_type": "stream",
     "text": [
      "c:\\Users\\AMON\\Documents\\GitHub\\tennis\\.venv\\Lib\\site-packages\\xgboost\\training.py:199: UserWarning: [15:34:13] WARNING: C:\\actions-runner\\_work\\xgboost\\xgboost\\src\\learner.cc:790: \n",
      "Parameters: { \"use_label_encoder\" } are not used.\n",
      "\n",
      "  bst.update(dtrain, iteration=i, fobj=obj)\n",
      "c:\\Users\\AMON\\Documents\\GitHub\\tennis\\.venv\\Lib\\site-packages\\xgboost\\training.py:199: UserWarning: [15:34:13] WARNING: C:\\actions-runner\\_work\\xgboost\\xgboost\\src\\learner.cc:790: \n",
      "Parameters: { \"use_label_encoder\" } are not used.\n",
      "\n",
      "  bst.update(dtrain, iteration=i, fobj=obj)\n",
      "c:\\Users\\AMON\\Documents\\GitHub\\tennis\\.venv\\Lib\\site-packages\\xgboost\\training.py:199: UserWarning: [15:34:14] WARNING: C:\\actions-runner\\_work\\xgboost\\xgboost\\src\\learner.cc:790: \n",
      "Parameters: { \"use_label_encoder\" } are not used.\n",
      "\n",
      "  bst.update(dtrain, iteration=i, fobj=obj)\n",
      "c:\\Users\\AMON\\Documents\\GitHub\\tennis\\.venv\\Lib\\site-packages\\xgboost\\training.py:199: UserWarning: [15:34:14] WARNING: C:\\actions-runner\\_work\\xgboost\\xgboost\\src\\learner.cc:790: \n",
      "Parameters: { \"use_label_encoder\" } are not used.\n",
      "\n",
      "  bst.update(dtrain, iteration=i, fobj=obj)\n"
     ]
    },
    {
     "name": "stdout",
     "output_type": "stream",
     "text": [
      "\n",
      "Model Prediction Correlation Matrix:\n",
      "                     LogisticRegression  RandomForest  GradientBoosting  \\\n",
      "LogisticRegression            1.000000      0.822027          0.965933   \n",
      "RandomForest                  0.822027      1.000000          0.852863   \n",
      "GradientBoosting              0.965933      0.852863          1.000000   \n",
      "KNN                           0.630041      0.696613          0.634022   \n",
      "NaiveBayes                    0.897518      0.748858          0.867486   \n",
      "XGBoost                       0.873366      0.835610          0.908229   \n",
      "\n",
      "                         KNN  NaiveBayes   XGBoost  \n",
      "LogisticRegression  0.630041    0.897518  0.873366  \n",
      "RandomForest        0.696613    0.748858  0.835610  \n",
      "GradientBoosting    0.634022    0.867486  0.908229  \n",
      "KNN                 1.000000    0.576736  0.608714  \n",
      "NaiveBayes          0.576736    1.000000  0.791195  \n",
      "XGBoost             0.608714    0.791195  1.000000  \n"
     ]
    },
    {
     "name": "stderr",
     "output_type": "stream",
     "text": [
      "c:\\Users\\AMON\\Documents\\GitHub\\tennis\\.venv\\Lib\\site-packages\\xgboost\\training.py:199: UserWarning: [15:34:14] WARNING: C:\\actions-runner\\_work\\xgboost\\xgboost\\src\\learner.cc:790: \n",
      "Parameters: { \"use_label_encoder\" } are not used.\n",
      "\n",
      "  bst.update(dtrain, iteration=i, fobj=obj)\n"
     ]
    }
   ],
   "source": [
    "from sklearn.model_selection import StratifiedKFold\n",
    "from sklearn.metrics import precision_score\n",
    "from sklearn.base import clone\n",
    "\n",
    "# Store OOF predictions\n",
    "oof_preds = {}\n",
    "skf = StratifiedKFold(n_splits=5, shuffle=True, random_state=42)\n",
    "\n",
    "# For each model, collect out-of-fold predicted probabilities\n",
    "for name, clf in models.items():\n",
    "    oof_pred = np.zeros(len(X))\n",
    "    \n",
    "    for train_idx, test_idx in skf.split(X, y):\n",
    "        X_train, X_test = X.iloc[train_idx], X.iloc[test_idx]\n",
    "        y_train = y.iloc[train_idx]\n",
    "\n",
    "        pipeline = Pipeline([\n",
    "            ('preprocessor', preprocessor),\n",
    "            ('classifier', clone(clf))\n",
    "        ])\n",
    "        pipeline.fit(X_train, y_train)\n",
    "        proba = pipeline.predict_proba(X_test)[:, 1] if hasattr(pipeline.named_steps['classifier'], 'predict_proba') else pipeline.decision_function(X_test)\n",
    "        oof_pred[test_idx] = proba\n",
    "\n",
    "    oof_preds[name] = oof_pred\n",
    "\n",
    "# Create a DataFrame of OOF predictions\n",
    "oof_df = pd.DataFrame(oof_preds)\n",
    "\n",
    "# Correlation matrix\n",
    "corr_matrix = oof_df.corr()\n",
    "print(\"\\nModel Prediction Correlation Matrix:\\n\", corr_matrix)\n"
   ]
  },
  {
   "cell_type": "code",
   "execution_count": 23,
   "id": "5bddc2d2",
   "metadata": {},
   "outputs": [
    {
     "name": "stderr",
     "output_type": "stream",
     "text": [
      "c:\\Users\\AMON\\Documents\\GitHub\\tennis\\.venv\\Lib\\site-packages\\sklearn\\preprocessing\\_encoders.py:246: UserWarning: Found unknown categories in columns [0] during transform. These unknown categories will be encoded as all zeros\n",
      "  warnings.warn(\n"
     ]
    },
    {
     "name": "stdout",
     "output_type": "stream",
     "text": [
      "Stacked Precision: 0.6443 ± 0.0147\n"
     ]
    }
   ],
   "source": [
    "from sklearn.ensemble import StackingClassifier\n",
    "\n",
    "estimators = [\n",
    "    ('knn', KNeighborsClassifier(n_neighbors=5)),\n",
    "    ('rf', RandomForestClassifier(n_estimators=100, random_state=42)),\n",
    "    ('xgb', XGBClassifier(eval_metric='logloss', random_state=42)),\n",
    "]\n",
    "\n",
    "stacked_model = StackingClassifier(\n",
    "    estimators=estimators,\n",
    "    final_estimator=LogisticRegression(max_iter=1000),\n",
    "    cv=5,\n",
    "    passthrough=False\n",
    ")\n",
    "\n",
    "stack_pipeline = Pipeline([\n",
    "    ('preprocessor', preprocessor),\n",
    "    ('classifier', stacked_model)\n",
    "])\n",
    "\n",
    "from sklearn.model_selection import cross_val_score\n",
    "scores = cross_val_score(stack_pipeline, X, y, cv=5, scoring='precision_weighted')\n",
    "print(\"Stacked Precision: %.4f ± %.4f\" % (scores.mean(), scores.std()))\n"
   ]
  },
  {
   "cell_type": "code",
   "execution_count": null,
   "id": "895b4fc9",
   "metadata": {},
   "outputs": [],
   "source": []
  }
 ],
 "metadata": {
  "kernelspec": {
   "display_name": ".venv",
   "language": "python",
   "name": "python3"
  },
  "language_info": {
   "codemirror_mode": {
    "name": "ipython",
    "version": 3
   },
   "file_extension": ".py",
   "mimetype": "text/x-python",
   "name": "python",
   "nbconvert_exporter": "python",
   "pygments_lexer": "ipython3",
   "version": "3.12.5"
  }
 },
 "nbformat": 4,
 "nbformat_minor": 5
}
